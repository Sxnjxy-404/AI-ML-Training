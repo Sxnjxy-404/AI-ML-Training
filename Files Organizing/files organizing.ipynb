{
 "cells": [
  {
   "cell_type": "code",
   "execution_count": null,
   "id": "0bf184ef-4b3e-4f25-a560-f7b677d77b0b",
   "metadata": {},
   "outputs": [],
   "source": [
    "import os\n",
    "import shutil\n",
    "\n",
    "def organize_files(folder_path):\n",
    "    for filename in os.listdir(folder_path):\n",
    "        file_path = os.path.join(folder_path, filename)\n",
    "        if os.path.isfile(file_path):\n",
    "            _, ext = os.path.splitext(filename)\n",
    "            ext = ext[1:].upper()  # Remove '.' and capitalize\n",
    "            if not ext:\n",
    "                continue\n",
    "            dest_folder = os.path.join(folder_path, ext)\n",
    "            os.makedirs(dest_folder, exist_ok=True)\n",
    "            shutil.move(file_path, os.path.join(dest_folder, filename))\n",
    "\n",
    "# ✅ Use raw string (r\"...\") to avoid escape issues\n",
    "organize_files(r\"C:\\Users\\sanja\\Downloads\")\n"
   ]
  },
  {
   "cell_type": "code",
   "execution_count": null,
   "id": "1417515d-d827-45c3-a09f-d6d750ae2885",
   "metadata": {},
   "outputs": [],
   "source": []
  }
 ],
 "metadata": {
  "kernelspec": {
   "display_name": "Python 3 (ipykernel)",
   "language": "python",
   "name": "python3"
  },
  "language_info": {
   "codemirror_mode": {
    "name": "ipython",
    "version": 3
   },
   "file_extension": ".py",
   "mimetype": "text/x-python",
   "name": "python",
   "nbconvert_exporter": "python",
   "pygments_lexer": "ipython3",
   "version": "3.13.5"
  }
 },
 "nbformat": 4,
 "nbformat_minor": 5
}
