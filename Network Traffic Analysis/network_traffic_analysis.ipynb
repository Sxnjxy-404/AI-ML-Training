{
 "cells": [
  {
   "cell_type": "code",
   "execution_count": 0,
   "metadata": {
    "application/vnd.databricks.v1+cell": {
     "cellMetadata": {
      "byteLimit": 2048000,
      "rowLimit": 10000
     },
     "inputWidgets": {},
     "nuid": "56b0a1b9-aec0-4e0d-a981-4643840ffe8c",
     "showTitle": false,
     "tableResultSettingsMap": {},
     "title": ""
    }
   },
   "outputs": [
    {
     "output_type": "stream",
     "name": "stdout",
     "output_type": "stream",
     "text": [
      "Collecting scapy\n  Downloading scapy-2.6.1-py3-none-any.whl.metadata (5.6 kB)\nDownloading scapy-2.6.1-py3-none-any.whl (2.4 MB)\n\u001B[?25l   \u001B[90m━━━━━━━━━━━━━━━━━━━━━━━━━━━━━━━━━━━━━━━━\u001B[0m \u001B[32m0.0/2.4 MB\u001B[0m \u001B[31m?\u001B[0m eta \u001B[36m-:--:--\u001B[0m\n\u001B[2K   \u001B[90m━━━━━━━━━━━━━━━━━━━━━━━━━━━━━━━━━━━━━━━━\u001B[0m \u001B[32m2.4/2.4 MB\u001B[0m \u001B[31m77.3 MB/s\u001B[0m eta \u001B[36m0:00:00\u001B[0m\n\u001B[?25hInstalling collected packages: scapy\nSuccessfully installed scapy-2.6.1\n\u001B[43mNote: you may need to restart the kernel using %restart_python or dbutils.library.restartPython() to use updated packages.\u001B[0m\n"
     ]
    }
   ],
   "source": [
    "%pip install scapy\n"
   ]
  },
  {
   "cell_type": "code",
   "execution_count": 0,
   "metadata": {
    "application/vnd.databricks.v1+cell": {
     "cellMetadata": {
      "byteLimit": 2048000,
      "rowLimit": 10000
     },
     "inputWidgets": {},
     "nuid": "9e8e974f-6d8e-4124-9890-da22eb8ce4a1",
     "showTitle": false,
     "tableResultSettingsMap": {},
     "title": ""
    }
   },
   "outputs": [],
   "source": [
    "%restart_python"
   ]
  },
  {
   "cell_type": "code",
   "execution_count": 0,
   "metadata": {
    "application/vnd.databricks.v1+cell": {
     "cellMetadata": {
      "byteLimit": 2048000,
      "rowLimit": 10000
     },
     "inputWidgets": {},
     "nuid": "433a149d-c449-4acc-9bc1-397b50081c1e",
     "showTitle": false,
     "tableResultSettingsMap": {},
     "title": ""
    }
   },
   "outputs": [
    {
     "output_type": "stream",
     "name": "stdout",
     "output_type": "stream",
     "text": [
      "Packet 1\n  Length: 62\n  Transport Layer: IP\n  Transport Layer: TCP\n  Summary: Ether / IP / TCP 145.254.160.237:3372 > 65.208.228.223:http S\n----------------------------------------\nPacket 2\n  Length: 62\n  Transport Layer: IP\n  Transport Layer: TCP\n  Summary: Ether / IP / TCP 65.208.228.223:http > 145.254.160.237:3372 SA\n----------------------------------------\nPacket 3\n  Length: 54\n  Transport Layer: IP\n  Transport Layer: TCP\n  Summary: Ether / IP / TCP 145.254.160.237:3372 > 65.208.228.223:http A\n----------------------------------------\nPacket 4\n  Length: 533\n  Transport Layer: IP\n  Transport Layer: TCP\n  Application Layer: HTTP\n  Summary: Ether / IP / TCP 145.254.160.237:3372 > 65.208.228.223:http PA / Raw\n----------------------------------------\nPacket 5\n  Length: 54\n  Transport Layer: IP\n  Transport Layer: TCP\n  Summary: Ether / IP / TCP 65.208.228.223:http > 145.254.160.237:3372 A\n----------------------------------------\n"
     ]
    }
   ],
   "source": [
    "from scapy.all import rdpcap, IP, TCP\n",
    "\n",
    "# Load the capture\n",
    "packets = rdpcap(\"/Volumes/pyspark_sample/default/network_traffic/http.cap\")\n",
    "\n",
    "# Analyze first 5 packets\n",
    "for i, pkt in enumerate(packets[:5]):\n",
    "    print(f\"Packet {i+1}\")\n",
    "    print(f\"  Length: {len(pkt)}\")\n",
    "    \n",
    "    # Check and print layers\n",
    "    if IP in pkt:\n",
    "        print(\"  Transport Layer: IP\")\n",
    "    if TCP in pkt:\n",
    "        print(\"  Transport Layer: TCP\")\n",
    "    if pkt.haslayer('Raw') and b\"HTTP\" in bytes(pkt['Raw']):\n",
    "        print(\"  Application Layer: HTTP\")\n",
    "    \n",
    "    print(f\"  Summary: {pkt.summary()}\")\n",
    "    print(\"-\" * 40)\n"
   ]
  },
  {
   "cell_type": "code",
   "execution_count": 0,
   "metadata": {
    "application/vnd.databricks.v1+cell": {
     "cellMetadata": {
      "byteLimit": 2048000,
      "rowLimit": 10000
     },
     "inputWidgets": {},
     "nuid": "7fb25f31-df43-4021-bd4c-26d6330192c0",
     "showTitle": false,
     "tableResultSettingsMap": {},
     "title": ""
    }
   },
   "outputs": [
    {
     "output_type": "stream",
     "name": "stdout",
     "output_type": "stream",
     "text": [
      "Top 5 Source IPs:\n145.254.160.237: 20 packets\n65.208.228.223: 18 packets\n216.239.59.99: 4 packets\n145.253.2.203: 1 packets\n"
     ]
    }
   ],
   "source": [
    "from collections import Counter\n",
    "from scapy.all import rdpcap, IP\n",
    "\n",
    "packets = rdpcap(\"/Volumes/pyspark_sample/default/network_traffic/http.cap\")\n",
    "\n",
    "ip_counts = Counter()\n",
    "\n",
    "for pkt in packets:\n",
    "    if IP in pkt:\n",
    "        ip_counts[pkt[IP].src] += 1\n",
    "\n",
    "print(\"Top 5 Source IPs:\")\n",
    "for ip, count in ip_counts.most_common(5):\n",
    "    print(f\"{ip}: {count} packets\")\n"
   ]
  },
  {
   "cell_type": "code",
   "execution_count": 0,
   "metadata": {
    "application/vnd.databricks.v1+cell": {
     "cellMetadata": {
      "byteLimit": 2048000,
      "rowLimit": 10000
     },
     "inputWidgets": {},
     "nuid": "13679d8e-832d-4945-8248-f370853004b1",
     "showTitle": false,
     "tableResultSettingsMap": {},
     "title": ""
    }
   },
   "outputs": [
    {
     "output_type": "stream",
     "name": "stdout",
     "output_type": "stream",
     "text": [
      "Visited URLs:\nhttp://www.ethereal.com/download.html\nhttp://pagead2.googlesyndication.com/pagead/ads?client=ca-pub-2309191948673629&random=1084443430285&lmt=1082467020&format=468x60_as&output=html&url=http%3A%2F%2Fwww.ethereal.com%2Fdownload.html&color_bg=FFFFFF&color_text=333333&color_link=000000&color_url=666633&color_border=666633\n"
     ]
    }
   ],
   "source": [
    "from scapy.all import rdpcap, TCP\n",
    "\n",
    "packets = rdpcap(\"/Volumes/pyspark_sample/default/network_traffic/http.cap\")\n",
    "\n",
    "print(\"Visited URLs:\")\n",
    "for pkt in packets:\n",
    "    if pkt.haslayer(TCP) and pkt.haslayer('Raw'):\n",
    "        payload = pkt['Raw'].load\n",
    "        if b\"GET\" in payload or b\"POST\" in payload:\n",
    "            try:\n",
    "                lines = payload.split(b\"\\r\\n\")\n",
    "                host_line = next(line for line in lines if b\"Host:\" in line)\n",
    "                uri_line = lines[0]\n",
    "                host = host_line.split(b\":\")[1].strip().decode()\n",
    "                uri = uri_line.split(b\" \")[1].decode()\n",
    "                print(f\"http://{host}{uri}\")\n",
    "            except:\n",
    "                continue\n"
   ]
  },
  {
   "cell_type": "code",
   "execution_count": 0,
   "metadata": {
    "application/vnd.databricks.v1+cell": {
     "cellMetadata": {
      "byteLimit": 2048000,
      "rowLimit": 10000
     },
     "inputWidgets": {},
     "nuid": "81c7e03d-7245-4f32-9536-3a16a819deac",
     "showTitle": false,
     "tableResultSettingsMap": {},
     "title": ""
    }
   },
   "outputs": [
    {
     "output_type": "stream",
     "name": "stdout",
     "output_type": "stream",
     "text": [
      "Top 10 Queried Domains:\ngoogle.com: 3 times\nwww.netbsd.org: 3 times\nGRIMM.utelsystems.local: 2 times\n104.9.192.66.in-addr.arpa: 1 times\nwww.google.com: 1 times\nwww.l.google.com: 1 times\nwww.example.com: 1 times\nwww.example.notginh: 1 times\nwww.isc.org: 1 times\n1.0.0.127.in-addr.arpa: 1 times\n"
     ]
    }
   ],
   "source": [
    "from scapy.all import rdpcap, DNS, DNSQR\n",
    "from collections import Counter\n",
    "\n",
    "# Load the capture file\n",
    "packets = rdpcap(\"/Volumes/pyspark_sample/default/network_traffic/dns.cap\")\n",
    "\n",
    "# Counter for domain names\n",
    "domain_counter = Counter()\n",
    "\n",
    "# Iterate over packets\n",
    "for pkt in packets:\n",
    "    if pkt.haslayer(DNS) and pkt.getlayer(DNS).qr == 0:  # qr=0 means it's a query\n",
    "        query = pkt.getlayer(DNSQR)\n",
    "        if query:\n",
    "            domain = query.qname.decode().strip('.')\n",
    "            domain_counter[domain] += 1\n",
    "\n",
    "# Print top 10 queried domains\n",
    "print(\"Top 10 Queried Domains:\")\n",
    "for domain, count in domain_counter.most_common(10):\n",
    "    print(f\"{domain}: {count} times\")\n"
   ]
  },
  {
   "cell_type": "code",
   "execution_count": 0,
   "metadata": {
    "application/vnd.databricks.v1+cell": {
     "cellMetadata": {},
     "inputWidgets": {},
     "nuid": "e06e3fd4-92b7-4bb1-8d60-dd496daac09e",
     "showTitle": false,
     "tableResultSettingsMap": {},
     "title": ""
    }
   },
   "outputs": [],
   "source": []
  }
 ],
 "metadata": {
  "application/vnd.databricks.v1+notebook": {
   "computePreferences": null,
   "dashboards": [],
   "environmentMetadata": {
    "base_environment": "",
    "environment_version": "2"
   },
   "inputWidgetPreferences": null,
   "language": "python",
   "notebookMetadata": {
    "pythonIndentUnit": 4
   },
   "notebookName": "network_traffic_analysis",
   "widgets": {}
  },
  "language_info": {
   "name": "python"
  }
 },
 "nbformat": 4,
 "nbformat_minor": 0
}