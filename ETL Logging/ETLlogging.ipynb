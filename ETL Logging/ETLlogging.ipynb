{
 "cells": [
  {
   "cell_type": "code",
   "execution_count": 1,
   "id": "e186deb0-bdad-4d06-9bc2-9f731c614a8c",
   "metadata": {},
   "outputs": [],
   "source": [
    "import logging"
   ]
  },
  {
   "cell_type": "code",
   "execution_count": 3,
   "id": "4e21d690-6c78-4dbb-8efc-0f3e3847fe79",
   "metadata": {},
   "outputs": [],
   "source": [
    "logging.basicConfig( \n",
    "filename='etl_log.txt', \n",
    "level=logging.INFO, \n",
    "format='%(asctime)s - %(levelname)s - %(message)s' \n",
    ")"
   ]
  },
  {
   "cell_type": "code",
   "execution_count": 4,
   "id": "838ffd12-9d6c-4d7b-97a8-421db16a160c",
   "metadata": {},
   "outputs": [],
   "source": [
    "import pandas as pd \n",
    "import numpy as np \n",
    "import mysql.connector \n",
    "import datetime"
   ]
  },
  {
   "cell_type": "code",
   "execution_count": 9,
   "id": "ac1974d8-e60c-4620-9ed6-c044bf806c6a",
   "metadata": {},
   "outputs": [
    {
     "name": "stdout",
     "output_type": "stream",
     "text": [
      "Raw data loaded:\n",
      "   EMPLOYEE_ID FIRST_NAME  LAST_NAME     EMAIL  PHONE_NUMBER  HIRE_DATE  \\\n",
      "0          198     Donald   OConnell  DOCONNEL  650.507.9833  21-Jun-07   \n",
      "1          199    Douglas      Grant    DGRANT  650.507.9844  13-Jan-08   \n",
      "2          200   Jennifer     Whalen   JWHALEN  515.123.4444  17-Sep-03   \n",
      "3          201    Michael  Hartstein  MHARTSTE  515.123.5555  17-Feb-04   \n",
      "4          202        Pat        Fay      PFAY  603.123.6666  17-Aug-05   \n",
      "\n",
      "     JOB_ID  SALARY  \n",
      "0  SH_CLERK    2600  \n",
      "1  SH_CLERK    2600  \n",
      "2   AD_ASST    4400  \n",
      "3    MK_MAN   13000  \n",
      "4    MK_REP    6000  \n",
      "['EMPLOYEE_ID', 'FIRST_NAME', 'LAST_NAME', 'EMAIL', 'PHONE_NUMBER', 'HIRE_DATE', 'JOB_ID', 'SALARY']\n"
     ]
    }
   ],
   "source": [
    "csv_file_path = 'employees1.csv' \n",
    "df = pd.read_csv(r\"C:\\Users\\sanja\\Downloads\\employees1.csv\") \n",
    "print(\"Raw data loaded:\") \n",
    "print(df.head()) \n",
    "print(df.columns.tolist()) \n",
    "logging.info(\"CSV loaded successfully.\")"
   ]
  },
  {
   "cell_type": "code",
   "execution_count": 10,
   "id": "6c0b61ba-b1be-409e-be6e-178886da390f",
   "metadata": {},
   "outputs": [],
   "source": [
    "df.fillna({ \n",
    "'EMAIL': 'not_provided@example.com', \n",
    "'PHONE_NUMBER': '0000000000', \n",
    "'HIRE_DATE': '01-Jan-00', \n",
    "'SALARY': 0 \n",
    "}, inplace=True) "
   ]
  },
  {
   "cell_type": "code",
   "execution_count": 11,
   "id": "f8badfac-b48a-4acd-aa43-dd7ca1d34432",
   "metadata": {},
   "outputs": [
    {
     "name": "stdout",
     "output_type": "stream",
     "text": [
      "['employee_id', 'first_name', 'last_name', 'email', 'phone_number', 'hire_date', 'job_id', 'salary']\n"
     ]
    }
   ],
   "source": [
    "df.columns = [col.strip().lower().replace(' ', '_') for col in df.columns] \n",
    "print(df.columns.tolist())"
   ]
  },
  {
   "cell_type": "code",
   "execution_count": 12,
   "id": "089b6cb6-e942-4b98-a069-a55a40e59969",
   "metadata": {},
   "outputs": [],
   "source": [
    "df['hire_date'] = pd.to_datetime(df['hire_date'], format='%d-%b-%y', \n",
    "errors='coerce')"
   ]
  },
  {
   "cell_type": "code",
   "execution_count": 13,
   "id": "66bfeb82-982f-4a42-8b94-84376db77e20",
   "metadata": {},
   "outputs": [],
   "source": [
    "df['hire_date'] = df['hire_date'].fillna(pd.to_datetime('2000-01-01')) "
   ]
  },
  {
   "cell_type": "code",
   "execution_count": 14,
   "id": "43512e5b-3e07-46d5-824c-26d6d257bc32",
   "metadata": {},
   "outputs": [],
   "source": [
    "df['salary'] = pd.to_numeric(df['salary'], errors='coerce').fillna(0).astype(int) \n",
    "logging.info(\"Data cleaning completed.\")"
   ]
  },
  {
   "cell_type": "code",
   "execution_count": 15,
   "id": "62583496-cc8c-4979-9541-a373f450ee14",
   "metadata": {},
   "outputs": [],
   "source": [
    "mydb = mysql.connector.connect( \n",
    "    host=\"localhost\", \n",
    "    user=\"root\", \n",
    "    password=\"root\", \n",
    "    database=\"employee\"  # <-- change this \n",
    ") \n",
    " \n",
    "cursor = mydb.cursor() "
   ]
  },
  {
   "cell_type": "code",
   "execution_count": 16,
   "id": "033b6da8-bf9e-418c-ba49-50a4b48fe719",
   "metadata": {},
   "outputs": [],
   "source": [
    "cursor.execute(\"\"\" \n",
    "    CREATE TABLE IF NOT EXISTS salary_2 ( \n",
    "        empid INT, \n",
    "        firstname VARCHAR(50), \n",
    "        lastname VARCHAR(50), \n",
    "        email VARCHAR(100), \n",
    "        phone VARCHAR(20), \n",
    "        hire_date DATE, \n",
    "        job_id VARCHAR(20), \n",
    "        salary INT \n",
    "    ) \n",
    "\"\"\")"
   ]
  },
  {
   "cell_type": "code",
   "execution_count": 17,
   "id": "bf315d62-a9ca-45d2-bd15-aaf042143c3c",
   "metadata": {},
   "outputs": [
    {
     "name": "stdout",
     "output_type": "stream",
     "text": [
      "ETL process completed successfully.\n"
     ]
    }
   ],
   "source": [
    "for index, row in df.iterrows(): \n",
    "    sql = \"\"\" \n",
    "        INSERT INTO salary_2 (empid, firstname, lastname, email, phone, \n",
    "hire_date, job_id, salary) \n",
    "        VALUES (%s, %s, %s, %s, %s, %s, %s, %s) \n",
    "        ON DUPLICATE KEY UPDATE \n",
    "            firstname=VALUES(firstname), \n",
    "            lastname=VALUES(lastname), \n",
    "            email=VALUES(email), \n",
    "            phone=VALUES(phone), \n",
    "            hire_date=VALUES(hire_date), \n",
    "            job_id=VALUES(job_id), \n",
    "            salary=VALUES(salary) \n",
    "    \"\"\" \n",
    "    values = ( \n",
    "        int(row['employee_id']), \n",
    "        row['first_name'], \n",
    "        row['last_name'], \n",
    "        row['email'], \n",
    "        row['phone_number'], \n",
    "        row['hire_date'].date(), \n",
    "        row['job_id'], \n",
    "        int(row['salary']) \n",
    "    ) \n",
    "    cursor.execute(sql, values) \n",
    " \n",
    "mydb.commit() \n",
    "cursor.close() \n",
    "mydb.close() \n",
    "logging.error(\"Something went wrong\", exc_info=True) \n",
    "print(\"ETL process completed successfully.\")"
   ]
  },
  {
   "cell_type": "code",
   "execution_count": 3,
   "id": "df394cc9-61d2-4671-be0e-4ffbe76b3929",
   "metadata": {},
   "outputs": [
    {
     "name": "stdout",
     "output_type": "stream",
     "text": [
      "C:\\Users\\sanja\n"
     ]
    }
   ],
   "source": [
    "import os \n",
    "print(os.getcwd())"
   ]
  },
  {
   "cell_type": "code",
   "execution_count": 1,
   "id": "03631f96-0fd9-431b-9b39-ed090a399b6b",
   "metadata": {},
   "outputs": [
    {
     "name": "stderr",
     "output_type": "stream",
     "text": [
      "[NbConvertApp] Converting notebook ETLlogging.ipynb to script\n",
      "[NbConvertApp] Writing 2865 bytes to ETLlogging.py\n"
     ]
    }
   ],
   "source": [
    "get_ipython().system('jupyter nbconvert --to script ETLlogging.ipynb')\n"
   ]
  },
  {
   "cell_type": "code",
   "execution_count": null,
   "id": "d76f299b-58c4-47dd-b530-8d9c2e34fd22",
   "metadata": {},
   "outputs": [],
   "source": []
  }
 ],
 "metadata": {
  "kernelspec": {
   "display_name": "Python 3 (ipykernel)",
   "language": "python",
   "name": "python3"
  },
  "language_info": {
   "codemirror_mode": {
    "name": "ipython",
    "version": 3
   },
   "file_extension": ".py",
   "mimetype": "text/x-python",
   "name": "python",
   "nbconvert_exporter": "python",
   "pygments_lexer": "ipython3",
   "version": "3.13.5"
  }
 },
 "nbformat": 4,
 "nbformat_minor": 5
}
