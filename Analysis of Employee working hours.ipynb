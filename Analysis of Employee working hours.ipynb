{
 "cells": [
  {
   "cell_type": "code",
   "execution_count": 27,
   "id": "bfb25f12-cc55-42c4-8b82-53761cee004d",
   "metadata": {},
   "outputs": [],
   "source": [
    "import numpy as np\n"
   ]
  },
  {
   "cell_type": "code",
   "execution_count": 28,
   "id": "20fa0796-69cc-4bf5-bc0d-6f61764b8730",
   "metadata": {},
   "outputs": [],
   "source": [
    "import pandas as pd\n"
   ]
  },
  {
   "cell_type": "code",
   "execution_count": 29,
   "id": "84ec21da-3828-4d1f-9dd0-41212c7e96cc",
   "metadata": {},
   "outputs": [],
   "source": [
    "np.random.seed(42)"
   ]
  },
  {
   "cell_type": "code",
   "execution_count": 30,
   "id": "5b5033ad-45f0-4ad3-b838-e7a32fbf70e6",
   "metadata": {},
   "outputs": [],
   "source": [
    "employee_ids = [f\"EMP_{i:03d}\" for i in range(1,31)]"
   ]
  },
  {
   "cell_type": "code",
   "execution_count": 31,
   "id": "d19fee10-8254-4d91-a5a3-3166ff8a40c2",
   "metadata": {},
   "outputs": [],
   "source": [
    "dates=pd.date_range(start=\"2025-07-01\",periods=30,freq=\"D\")"
   ]
  },
  {
   "cell_type": "code",
   "execution_count": 32,
   "id": "015a3574-ffe6-4453-9628-ae838e8e9b38",
   "metadata": {
    "scrolled": true
   },
   "outputs": [
    {
     "data": {
      "text/plain": [
       "['EMP_001',\n",
       " 'EMP_002',\n",
       " 'EMP_003',\n",
       " 'EMP_004',\n",
       " 'EMP_005',\n",
       " 'EMP_006',\n",
       " 'EMP_007',\n",
       " 'EMP_008',\n",
       " 'EMP_009',\n",
       " 'EMP_010',\n",
       " 'EMP_011',\n",
       " 'EMP_012',\n",
       " 'EMP_013',\n",
       " 'EMP_014',\n",
       " 'EMP_015',\n",
       " 'EMP_016',\n",
       " 'EMP_017',\n",
       " 'EMP_018',\n",
       " 'EMP_019',\n",
       " 'EMP_020',\n",
       " 'EMP_021',\n",
       " 'EMP_022',\n",
       " 'EMP_023',\n",
       " 'EMP_024',\n",
       " 'EMP_025',\n",
       " 'EMP_026',\n",
       " 'EMP_027',\n",
       " 'EMP_028',\n",
       " 'EMP_029',\n",
       " 'EMP_030']"
      ]
     },
     "execution_count": 32,
     "metadata": {},
     "output_type": "execute_result"
    }
   ],
   "source": [
    "employee_ids\n"
   ]
  },
  {
   "cell_type": "code",
   "execution_count": 33,
   "id": "f738fe4c-6549-4e16-9fc6-38d3cb306c0e",
   "metadata": {},
   "outputs": [],
   "source": [
    "data = {\n",
    "    \"Date\": np.tile(dates,len(employee_ids)),\n",
    "    \"Employee_ID\":np.repeat(employee_ids,len(dates)),\n",
    "    \"Working_Hours\":np.random.uniform(4,10,size=len(dates)*len(employee_ids)).round(2)\n",
    "}"
   ]
  },
  {
   "cell_type": "code",
   "execution_count": 34,
   "id": "6b59dcb0-f8ab-4d9c-b565-bf5de82b847b",
   "metadata": {},
   "outputs": [],
   "source": [
    "df=pd.DataFrame(data)"
   ]
  },
  {
   "cell_type": "code",
   "execution_count": 35,
   "id": "3a42e7a0-950b-43b4-8768-a374f22e77e8",
   "metadata": {},
   "outputs": [],
   "source": [
    "df.to_csv(\"employee_working_hours.csv\",index=False)"
   ]
  },
  {
   "cell_type": "code",
   "execution_count": 36,
   "id": "d9702c0d-ef2b-4c4b-a3df-3352c52c5d75",
   "metadata": {},
   "outputs": [],
   "source": [
    "df_csv=pd.read_csv(\"employee_working_hours.csv\")"
   ]
  },
  {
   "cell_type": "code",
   "execution_count": 37,
   "id": "49882a95-df5f-4a63-8423-5593d4370465",
   "metadata": {
    "scrolled": true
   },
   "outputs": [
    {
     "name": "stdout",
     "output_type": "stream",
     "text": [
      "         Date Employee_ID  Working_Hours\n",
      "0  2025-07-01     EMP_001           6.25\n",
      "1  2025-07-02     EMP_001           9.70\n",
      "2  2025-07-03     EMP_001           8.39\n",
      "3  2025-07-04     EMP_001           7.59\n",
      "4  2025-07-05     EMP_001           4.94\n",
      "       Working_Hours\n",
      "count     900.000000\n",
      "mean        6.954233\n",
      "std         1.762088\n",
      "min         4.030000\n",
      "25%         5.387500\n",
      "50%         7.010000\n",
      "75%         8.490000\n",
      "max        10.000000\n",
      "30\n"
     ]
    }
   ],
   "source": [
    "print(df_csv.head())\n",
    "print(df_csv.describe())\n",
    "print(df_csv[\"Employee_ID\"].nunique())"
   ]
  },
  {
   "cell_type": "code",
   "execution_count": 39,
   "id": "31543851-694b-4b9d-a1c5-2b3418382590",
   "metadata": {},
   "outputs": [],
   "source": [
    "total_hours=df_csv.groupby(\"Employee_ID\")[\"Working_Hours\"].sum().sort_values(ascending=False)"
   ]
  },
  {
   "cell_type": "code",
   "execution_count": 50,
   "id": "539cc94f-3e87-4fa1-9753-c36d5658712b",
   "metadata": {},
   "outputs": [],
   "source": [
    "avg_daily = df_csv.groupby(\"Employee_ID\")[\"Working_Hours\"].mean()"
   ]
  },
  {
   "cell_type": "code",
   "execution_count": 51,
   "id": "3c2237c3-9797-4e57-b885-98b816a29f12",
   "metadata": {
    "scrolled": true
   },
   "outputs": [
    {
     "name": "stdout",
     "output_type": "stream",
     "text": [
      "         Date Employee_ID  Working_Hours  Low_Hour_flag  High_Hour_flag  \\\n",
      "1  2025-07-02     EMP_001           9.70          False            True   \n",
      "4  2025-07-05     EMP_001           4.94           True           False   \n",
      "5  2025-07-06     EMP_001           4.94           True           False   \n",
      "6  2025-07-07     EMP_001           4.35           True           False   \n",
      "7  2025-07-08     EMP_001           9.20          False            True   \n",
      "\n",
      "   Low_Hours_flag  High_Hours_flag  Low_Hours_Flag  High_Hours_Flag  \n",
      "1           False             True           False             True  \n",
      "4            True            False            True            False  \n",
      "5            True            False            True            False  \n",
      "6            True            False            True            False  \n",
      "7           False             True           False             True  \n"
     ]
    }
   ],
   "source": [
    "threshold_low=5\n",
    "threshold_high=9\n",
    "df_csv[\"Low_Hours_Flag\"]=df_csv[\"Working_Hours\"] < threshold_low\n",
    "df_csv[\"High_Hours_Flag\"]=df_csv[\"Working_Hours\"] > threshold_high\n",
    "print(df_csv[df_csv[\"Low_Hours_Flag\"] | df_csv[\"High_Hours_Flag\"]].head())"
   ]
  },
  {
   "cell_type": "code",
   "execution_count": 52,
   "id": "58b06c17-0ddf-4c00-b4b0-d90e422fcc17",
   "metadata": {},
   "outputs": [],
   "source": [
    "df_csv.drop(columns=[\"Low_Hours_flag\", \"High_Hour_flag\"], errors=\"ignore\", inplace=True)"
   ]
  },
  {
   "cell_type": "code",
   "execution_count": 53,
   "id": "f667403f-740d-4773-8967-f3171c6f6824",
   "metadata": {
    "scrolled": true
   },
   "outputs": [
    {
     "name": "stdout",
     "output_type": "stream",
     "text": [
      "         Date Employee_ID  Working_Hours  Low_Hour_flag  High_Hours_flag  \\\n",
      "1  2025-07-02     EMP_001           9.70          False             True   \n",
      "4  2025-07-05     EMP_001           4.94           True            False   \n",
      "5  2025-07-06     EMP_001           4.94           True            False   \n",
      "6  2025-07-07     EMP_001           4.35           True            False   \n",
      "7  2025-07-08     EMP_001           9.20          False             True   \n",
      "\n",
      "   Low_Hours_Flag  High_Hours_Flag  \n",
      "1           False             True  \n",
      "4            True            False  \n",
      "5            True            False  \n",
      "6            True            False  \n",
      "7           False             True  \n"
     ]
    }
   ],
   "source": [
    "threshold_low = 5\n",
    "threshold_high = 9\n",
    "\n",
    "df_csv[\"Low_Hours_Flag\"] = df_csv[\"Working_Hours\"] < threshold_low\n",
    "df_csv[\"High_Hours_Flag\"] = df_csv[\"Working_Hours\"] > threshold_high\n",
    "\n",
    "print(df_csv[df_csv[\"Low_Hours_Flag\"] | df_csv[\"High_Hours_Flag\"]].head())\n"
   ]
  },
  {
   "cell_type": "code",
   "execution_count": 54,
   "id": "b37cac33-08c8-47a6-a900-5f5ebb250d99",
   "metadata": {},
   "outputs": [],
   "source": [
    "df_csv.drop(columns=[\"Low_Hours_flag\", \"High_Hours_flag\"], errors=\"ignore\", inplace=True)"
   ]
  },
  {
   "cell_type": "code",
   "execution_count": 55,
   "id": "a9ce7bdc-30e8-47c6-bb10-74be5da37d1c",
   "metadata": {
    "scrolled": true
   },
   "outputs": [
    {
     "name": "stdout",
     "output_type": "stream",
     "text": [
      "         Date Employee_ID  Working_Hours  Low_Hour_flag  Low_Hours_Flag  \\\n",
      "1  2025-07-02     EMP_001           9.70          False           False   \n",
      "4  2025-07-05     EMP_001           4.94           True            True   \n",
      "5  2025-07-06     EMP_001           4.94           True            True   \n",
      "6  2025-07-07     EMP_001           4.35           True            True   \n",
      "7  2025-07-08     EMP_001           9.20          False           False   \n",
      "\n",
      "   High_Hours_Flag  \n",
      "1             True  \n",
      "4            False  \n",
      "5            False  \n",
      "6            False  \n",
      "7             True  \n"
     ]
    }
   ],
   "source": [
    "threshold_low = 5\n",
    "threshold_high = 9\n",
    "\n",
    "df_csv[\"Low_Hours_Flag\"] = df_csv[\"Working_Hours\"] < threshold_low\n",
    "df_csv[\"High_Hours_Flag\"] = df_csv[\"Working_Hours\"] > threshold_high\n",
    "\n",
    "print(df_csv[df_csv[\"Low_Hours_Flag\"] | df_csv[\"High_Hours_Flag\"]].head())"
   ]
  },
  {
   "cell_type": "code",
   "execution_count": 56,
   "id": "1b3ef055-313b-4e60-bfed-ae07658c04e7",
   "metadata": {},
   "outputs": [],
   "source": [
    "df_csv.drop(columns=[\"Low_Hour_flag\"], errors=\"ignore\", inplace=True)"
   ]
  },
  {
   "cell_type": "code",
   "execution_count": 57,
   "id": "38ee4a35-3148-4d8a-9a7c-f3387cfd3cd9",
   "metadata": {
    "scrolled": true
   },
   "outputs": [
    {
     "name": "stdout",
     "output_type": "stream",
     "text": [
      "         Date Employee_ID  Working_Hours  Low_Hours_Flag  High_Hours_Flag\n",
      "1  2025-07-02     EMP_001           9.70           False             True\n",
      "4  2025-07-05     EMP_001           4.94            True            False\n",
      "5  2025-07-06     EMP_001           4.94            True            False\n",
      "6  2025-07-07     EMP_001           4.35            True            False\n",
      "7  2025-07-08     EMP_001           9.20           False             True\n"
     ]
    }
   ],
   "source": [
    "threshold_low = 5\n",
    "threshold_high = 9\n",
    "\n",
    "df_csv[\"Low_Hours_Flag\"] = df_csv[\"Working_Hours\"] < threshold_low\n",
    "df_csv[\"High_Hours_Flag\"] = df_csv[\"Working_Hours\"] > threshold_high\n",
    "\n",
    "print(df_csv[df_csv[\"Low_Hours_Flag\"] | df_csv[\"High_Hours_Flag\"]].head())"
   ]
  },
  {
   "cell_type": "code",
   "execution_count": 60,
   "id": "d19fc75a-c2ff-4fdc-9c74-4be09d9cfb49",
   "metadata": {},
   "outputs": [
    {
     "data": {
      "image/png": "[encoded data removed]",
      "text/plain": [
       "<Figure size 1000x500 with 1 Axes>"
      ]
     },
     "metadata": {},
     "output_type": "display_data"
    }
   ],
   "source": [
    "import matplotlib.pyplot as plt\n",
    "import seaborn as sns\n",
    "top10 = total_hours.head(10)\n",
    "plt.figure(figsize=(10,5))\n",
    "sns.barplot(x=top10.index,y=top10.values,color='red')\n",
    "plt.xticks(rotation=45)\n",
    "plt.title(\"Top 10 Employee by Total working Hours\")\n",
    "plt.ylabel(\"Hours\")\n",
    "plt.tight_layout()\n",
    "plt.show()"
   ]
  },
  {
   "cell_type": "code",
   "execution_count": null,
   "id": "31030f93-9b61-44b0-8a17-e73cc765fb33",
   "metadata": {},
   "outputs": [],
   "source": []
  }
 ],
 "metadata": {
  "kernelspec": {
   "display_name": "Python 3 (ipykernel)",
   "language": "python",
   "name": "python3"
  },
  "language_info": {
   "codemirror_mode": {
    "name": "ipython",
    "version": 3
   },
   "file_extension": ".py",
   "mimetype": "text/x-python",
   "name": "python",
   "nbconvert_exporter": "python",
   "pygments_lexer": "ipython3",
   "version": "3.13.5"
  }
 },
 "nbformat": 4,
 "nbformat_minor": 5
}
