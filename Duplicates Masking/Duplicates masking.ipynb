{
 "cells": [
  {
   "cell_type": "code",
   "execution_count": 1,
   "id": "d0a4d535-b30b-4334-9144-41223863493c",
   "metadata": {},
   "outputs": [],
   "source": [
    "import numpy as np"
   ]
  },
  {
   "cell_type": "code",
   "execution_count": 24,
   "id": "08798e8b-367a-4b75-99d6-07a7e43a4a36",
   "metadata": {},
   "outputs": [
    {
     "name": "stdin",
     "output_type": "stream",
     "text": [
      "Enter number of test cases:  2\n"
     ]
    }
   ],
   "source": [
    "t = int(input(\"Enter number of test cases: \"))\n",
    "results = []"
   ]
  },
  {
   "cell_type": "code",
   "execution_count": 25,
   "id": "f2f73c7c-1fc4-4ced-b7de-3f170efe8536",
   "metadata": {},
   "outputs": [
    {
     "name": "stdin",
     "output_type": "stream",
     "text": [
      "Enter space-separated integers for test case 1:  0 0 3 0 2 4 2 2 2 2\n",
      "Enter space-separated integers for test case 2:  0 0 3 0 2 4 2 3 4 2 \n"
     ]
    }
   ],
   "source": [
    "for test in range(t):\n",
    "    # Input numpy array\n",
    "    arr = np.array(list(map(int, input(f\"Enter space-separated integers for test case {test + 1}: \").split())))\n",
    "\n",
    "    # Use np.unique to find first occurrence indices\n",
    "    _, first_indices = np.unique(arr, return_index=True)\n",
    "\n",
    "    # Initialize all to True, meaning all are considered duplicates initially\n",
    "    is_duplicate = np.full(arr.shape, True, dtype=bool)\n",
    "\n",
    "    # Set first occurrences to False\n",
    "    is_duplicate[first_indices] = False\n",
    "\n",
    "        # Store result\n",
    "    results.append((arr, is_duplicate))"
   ]
  },
  {
   "cell_type": "code",
   "execution_count": 26,
   "id": "afd6863e-0862-495b-8c30-e83bb5f73e6a",
   "metadata": {},
   "outputs": [
    {
     "name": "stdout",
     "output_type": "stream",
     "text": [
      "\n",
      "Test case 1:\n",
      "Input array:  [0 0 3 0 2 4 2 2 2 2]\n",
      "Duplicate mask: [False  True False  True False False  True  True  True  True]\n",
      "\n",
      "Test case 2:\n",
      "Input array:  [0 0 3 0 2 4 2 3 4 2]\n",
      "Duplicate mask: [False  True False  True False False  True  True  True  True]\n"
     ]
    }
   ],
   "source": [
    "for i, (input_arr, output_mask) in enumerate(results, start=1):\n",
    "    print(f\"\\nTest case {i}:\")\n",
    "    print(\"Input array: \", input_arr)\n",
    "    print(\"Duplicate mask:\", output_mask)"
   ]
  },
  {
   "cell_type": "code",
   "execution_count": null,
   "id": "e8804153-5654-410b-86d1-e7be98408afb",
   "metadata": {},
   "outputs": [],
   "source": []
  },
  {
   "cell_type": "code",
   "execution_count": null,
   "id": "b46e38c1-178e-42e8-a25d-0246c5d87ead",
   "metadata": {},
   "outputs": [],
   "source": []
  }
 ],
 "metadata": {
  "kernelspec": {
   "display_name": "Python 3 (ipykernel)",
   "language": "python",
   "name": "python3"
  },
  "language_info": {
   "codemirror_mode": {
    "name": "ipython",
    "version": 3
   },
   "file_extension": ".py",
   "mimetype": "text/x-python",
   "name": "python",
   "nbconvert_exporter": "python",
   "pygments_lexer": "ipython3",
   "version": "3.13.5"
  }
 },
 "nbformat": 4,
 "nbformat_minor": 5
}
